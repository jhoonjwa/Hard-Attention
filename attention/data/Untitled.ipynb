{
 "cells": [
  {
   "cell_type": "code",
   "execution_count": 9,
   "id": "61455e0e-2bd7-4856-94ff-865afc5a94e2",
   "metadata": {},
   "outputs": [
    {
     "name": "stdout",
     "output_type": "stream",
     "text": [
      "dict_keys(['dataset', 'image_id', 'image_format', 'question', 'bbox', 'answer', 'output', 'score', 'ratio', 'new_output_0.0_True', 'new_output_0.0_False', 'new_output_2.0_False', 'new_output_2.0_True', 'new_output_3.0_False', 'new_output_3.0_True', 'new_output_5.0_False', 'new_output_5.0_True', 'new_output_5.0_True_score', 'new_output_5.0_False_score', 'new_output_5.0_False_3.0'])\n"
     ]
    }
   ],
   "source": [
    "import json\n",
    "\n",
    "with open('viscot_selected.json', 'r', encoding='utf-8') as f:\n",
    "    dataset = json.load(f)\n",
    "\n",
    "print(data[0].keys())"
   ]
  },
  {
   "cell_type": "code",
   "execution_count": 17,
   "id": "e8353c95-a6c4-452f-b4d6-e01bffd3c391",
   "metadata": {},
   "outputs": [],
   "source": [
    "import copy\n",
    "keys_to_keep = ['dataset', 'image_id', 'image_format', 'question', 'bbox', 'answer', 'output', 'score', 'ratio', 'new_output_0.0_False', 'new_output_5.0_True']\n",
    "\n",
    "data_to_keep = []\n",
    "filtered_dataset = [{key: d[key] for key in keys_to_keep if key in d} for d in dataset]\n",
    "\n",
    "for d in filtered_dataset:\n",
    "    if len(d['bbox']) >= 2:\n",
    "        print(d['bbox'])\n",
    "    d['dataset_subdir'] = copy.deepcopy(d['dataset'])\n",
    "    d['dataset'] = 'viscot'\n",
    "with open('viscot_filtered.json', 'w') as f:\n",
    "    json.dump(filtered_dataset, f, indent=2)\n",
    "        "
   ]
  },
  {
   "cell_type": "code",
   "execution_count": 26,
   "id": "3cb7eda6-a52c-4ada-b1d7-13ddd4d341c8",
   "metadata": {},
   "outputs": [
    {
     "name": "stdout",
     "output_type": "stream",
     "text": [
      "6500\n"
     ]
    }
   ],
   "source": [
    "import copy\n",
    "with open('llava_v15_7b_1.json', 'r', encoding='utf-8') as f:\n",
    "    dataset = json.load(f)\n",
    "\n",
    "print(len(dataset))\n",
    "data_to_keep = ['flickr30k', 'gqa']\n",
    "new_data = []\n",
    "for data in dataset:\n",
    "    if data['dataset'] in data_to_keep:\n",
    "        data['dataset_subdir'] = copy.deepcopy(data['dataset'])\n",
    "        data['dataset'] = 'viscot'\n",
    "        data['bbox'] = [data['bbox']]\n",
    "        new_data.append(data)\n",
    "\n",
    "with open('gqa_filcker30k.json', 'w') as f:\n",
    "    json.dump(new_data, f, indent=2)"
   ]
  }
 ],
 "metadata": {
  "kernelspec": {
   "display_name": "Python 3 (ipykernel)",
   "language": "python",
   "name": "python3"
  },
  "language_info": {
   "codemirror_mode": {
    "name": "ipython",
    "version": 3
   },
   "file_extension": ".py",
   "mimetype": "text/x-python",
   "name": "python",
   "nbconvert_exporter": "python",
   "pygments_lexer": "ipython3",
   "version": "3.10.13"
  }
 },
 "nbformat": 4,
 "nbformat_minor": 5
}
