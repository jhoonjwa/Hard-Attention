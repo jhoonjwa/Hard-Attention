{
 "cells": [
  {
   "cell_type": "code",
   "execution_count": 4,
   "id": "869db354-4c73-41f5-8cf5-9324a94e53dd",
   "metadata": {},
   "outputs": [
    {
     "name": "stdout",
     "output_type": "stream",
     "text": [
      "/home/jovyan/fileviewer/vqa-attention/llava/attention/data/vstar\n"
     ]
    }
   ],
   "source": [
    "cd attention/data/vstar"
   ]
  },
  {
   "cell_type": "code",
   "execution_count": 43,
   "id": "877bfdf3-349d-42a3-b5b9-6f77dbfda5d6",
   "metadata": {},
   "outputs": [],
   "source": [
    "import json\n",
    "import copy\n",
    "\n",
    "with open('vstar.json', 'r') as f:\n",
    "    dataset = json.load(f)\n",
    "\n",
    "for data in dataset:\n",
    "    a_val = copy.deepcopy(data['options']['A'])\n",
    "    b_val = copy.deepcopy(data['options']['B'])\n",
    "    data['options']['A'] = b_val\n",
    "    data['options']['B'] = a_val\n",
    "\n",
    "with open('vstar_new.json', 'w') as f:\n",
    "    json.dump(dataset, f, indent=2)\n",
    "    "
   ]
  },
  {
   "cell_type": "code",
   "execution_count": 42,
   "id": "d5873e41-172b-468f-ac98-d966f8256021",
   "metadata": {},
   "outputs": [
    {
     "data": {
      "text/plain": [
       "{'dataset': 'vstar',\n",
       " 'question': 'Is the flag red or white?',\n",
       " 'options': {'A': 'The color of the flag is white.',\n",
       "  'B': 'The color of the flag is red.'},\n",
       " 'image_id': 'sa_10033',\n",
       " 'image_format': 'jpg',\n",
       " 'target_object': ['flag'],\n",
       " 'bbox': [[1648, 678, 1677, 759]],\n",
       " 'answer': 'A:The color of the flag is white.'}"
      ]
     },
     "execution_count": 42,
     "metadata": {},
     "output_type": "execute_result"
    }
   ],
   "source": [
    "dataset[0]"
   ]
  }
 ],
 "metadata": {
  "kernelspec": {
   "display_name": "Python 3 (ipykernel)",
   "language": "python",
   "name": "python3"
  },
  "language_info": {
   "codemirror_mode": {
    "name": "ipython",
    "version": 3
   },
   "file_extension": ".py",
   "mimetype": "text/x-python",
   "name": "python",
   "nbconvert_exporter": "python",
   "pygments_lexer": "ipython3",
   "version": "3.10.13"
  }
 },
 "nbformat": 4,
 "nbformat_minor": 5
}
